{
 "cells": [
  {
   "cell_type": "code",
   "execution_count": 77,
   "id": "93de6222",
   "metadata": {},
   "outputs": [
    {
     "data": {
      "text/plain": [
       "True"
      ]
     },
     "execution_count": 77,
     "metadata": {},
     "output_type": "execute_result"
    }
   ],
   "source": [
    "import os\n",
    "import json \n",
    "from openai import OpenAI\n",
    "from dotenv import load_dotenv\n",
    "from collections import defaultdict\n",
    "\n",
    "load_dotenv()"
   ]
  },
  {
   "cell_type": "code",
   "execution_count": 9,
   "id": "4e3cb2f5",
   "metadata": {},
   "outputs": [],
   "source": [
    "# Send a trading request to OpenAI API\n",
    "client = OpenAI(api_key=os.environ.get(os.environ.get(\"OPENAI_API_KEY\"))) \n",
    "chat_completion = client.chat.completions.create(\n",
    "    messages=[\n",
    "        {\"role\": \"system\", \"content\": os.environ.get(\"ROLE\")},\n",
    "        {\"role\": \"user\", \"content\": os.environ.get(\"INSTRUCTIONS\")}\n",
    "    ],\n",
    "    model=\"gpt-4o\",\n",
    ")"
   ]
  },
  {
   "cell_type": "code",
   "execution_count": 25,
   "id": "e46173cb",
   "metadata": {},
   "outputs": [],
   "source": [
    "# Clean the artefacts to get a string\n",
    "result = str(chat_completion.choices[0].message)\n",
    "result = result.strip('ChatCompletionMessage(content=')\n",
    "result = result.strip(\", refusal=None, role='assistant', audio=None, function_call=None, tool_calls=None)\")"
   ]
  },
  {
   "cell_type": "code",
   "execution_count": 74,
   "id": "b87f8f50",
   "metadata": {},
   "outputs": [],
   "source": [
    "# Function to parse the strategies\n",
    "from collections import defaultdict\n",
    "\n",
    "def parse_strategies(raw_text):\n",
    "    raw_text = raw_text.replace(\"\\\\n\", \"\\n\").strip()\n",
    "    raw_text = raw_text.replace(\"\\n\", \"\").strip()\n",
    "    strategy_dict = {}\n",
    "    # Split strategies based on the '### Strategy' separator\n",
    "    strategies = re.split(r'### Strategy (\\d+)', raw_text)\n",
    "    strategies = strategies[1:]  # Remove empty prefix\n",
    "    for i in range(0, len(strategies), 2):\n",
    "        strategy_number = f\"Strategy {strategies[i]}\"\n",
    "        strategy_content = strategies[i + 1].strip()\n",
    "        # Parse the content of each strategy\n",
    "        sections = re.split(r'\\*\\*(.+?):\\*\\*', strategy_content)\n",
    "        sections = sections[1:]  # Remove empty prefix\n",
    "        strategy_data = defaultdict(str)\n",
    "        for j in range(0, len(sections), 2):\n",
    "            key = sections[j].strip()\n",
    "            value = sections[j + 1].strip()\n",
    "            strategy_data[key] = value\n",
    "        strategy_dict[strategy_number] = dict(strategy_data)\n",
    "    return strategy_dict\n",
    "\n",
    "# Parse the raw text\n",
    "strategies = parse_strategies(result)"
   ]
  },
  {
   "cell_type": "code",
   "execution_count": 79,
   "id": "e4b2184e",
   "metadata": {},
   "outputs": [
    {
     "data": {
      "text/plain": [
       "{'Strategy 1': {'Composition': 'The typical 3-2-1 crack spread involves buying three crude oil futures contracts and simultaneously selling two gasoline futures and one distillate fuel oil futures (such as diesel) contracts, reflecting the typical yields from refining one barrel of crude oil.',\n",
       "  'Trading Strategy': 'In this strategy, you would establish a position in the 3-2-1 crack spread and then hedge this position with a refiner stock such as Valero Energy Corporation (VLO). The goal is to profit from the differential between the movements of crack spreads and the stock price.',\n",
       "  'Economic Rationale': 'Refiner stocks are sensitive to crack spreads since they represent the gross margin (before operating costs) that refiners earn for converting crude oil into refined products. Thus, refiner stocks usually react positively to widening crack spreads because it implies higher profitability margins. Conversely, narrowing spreads may lead to declines in refiner stock prices.',\n",
       "  'Trade Execution': 'Given current crude oil prices and expected demand surges for gasoline and distillates, suppose the crack spread is expected to widen. You might consider going long on the crack spread and long on Valero Energy stock if you believe the market is underestimating the positive effects on the stock.',\n",
       "  'Positions': '- **Go Long** the crack spread (buy 3 crude oil contracts, sell 2 gasoline and 1 distillate contracts).- **Go Long** Valero Energy Corporation (VLO) to capitalize on expected improved refining margins.---'},\n",
       " 'Strategy 2': {'Composition': 'A 2-1-1 crack spread is simpler and involves buying two crude oil futures contracts and selling one gasoline and one distillate contract.',\n",
       "  'Trading Strategy': 'For this strategy, you can trade this refined crack spread against a company like Marathon Petroleum Corporation (MPC). Here, you would hedge by taking positions in the crack spread and the refiner’s stock based on expected movements.',\n",
       "  'Economic Rationale': 'Although cracks spreads are a primary determinant of refiner profitability, not all profits follow due to operational costs and efficiency differences. Any deviation in behaviors between these spreads and stocks can present an arbitrage opportunity.',\n",
       "  'Trade Execution': \"If economic data suggests a slowdown in industrial activity, potentially narrowing spreads, a short position in the crack spread while shorting Marathon Petroleum could be tactical once the market overprices the stock's future cash flows relative to the declining margins.\",\n",
       "  'Positions': '- **Go Short** on the 2-1-1 crack spread.- **Go Short** on Marathon Petroleum Corporation (MPC) by selling stock or using options.---'},\n",
       " 'Strategy 3': {'Composition': 'Consider the 5-3-2 crack spread: buy five crude oil futures, sell three gasoline, and two diesel/distillate futures.',\n",
       "  'Trading Strategy': 'This spread can be used against Phillips 66 (PSX) stock, incorporating the future outlook of product demand and its impact on refining margins and stock valuation.',\n",
       "  'Economic Rationale': 'Crack spreads often widen or narrow with seasonal demand shifts, geopolitical tensions affecting oil supply, or regulatory changes that impact product specifications. Stocks might lag or lead these movements, allowing traders to exploit these dynamics.',\n",
       "  'Trade Execution': 'If pre-seasonal inventory reports predict a spike in product demand, consider going long on the crack spread while shorting Phillips 66. This approach bets on PSX lagging behind impending margin pressure adjustments.',\n",
       "  'Positions': '- **Go Long** on the 5-3-2 crack spread.- **Go Short** on Phillips 66 (PSX) through stock sales or put options.---'},\n",
       " 'Strategy 4': {'Composition': 'A heavy crack spread differential uses a 4-2-1 pattern: buy four crude oil contracts, sell two gasoline, and one heating oil contract.',\n",
       "  'Trading Strategy': 'Execute this crack spread strategy while trading against the stock of a refiner with diversified product offerings such as Exxon Mobil (XOM).',\n",
       "  'Economic Rationale': 'While similar spreads impact all refiners, those with diversified operations in exploration and chemicals are less sensitive solely to crack spread fluctuations, allowing for trading opportunities based on differential impacts.',\n",
       "  'Trade Execution': 'In anticipation of raw inputs cost decline, with stable product prices, go long on the crack spread while hedging in Exxon Mobil stock to neutralize risks from diversified business reliance.',\n",
       "  'Positions': '- **Go Long** on the 4-2-1 crack spread.- Consider **Neutral/Hold** on Exxon Mobil (XOM) and hedge any mismatched risks.---'},\n",
       " 'Strategy 5': {'Composition': 'A residual fuel oil spread like 2-1-2: buy two crude, sell one gasoline, and two fuel oil contracts, aligning closer to heavier crude refining.',\n",
       "  'Trading Strategy': 'Engage this spread against a more middle-distillate oriented company like HollyFrontier Corporation (DINO).',\n",
       "  'Economic Rationale': 'Fuel oil spreads heavily react to shipping and industrial heating patterns, causing distinct stock price reactions from non-integrated companies focused on similar product lines.',\n",
       "  'Trade Execution': 'With inflationary pressures on operational costs, limiting refined product pricing growth, shorting crack spreads while being long on HollyFrontier might profit if it achieves cost efficiencies contrary to market perceptions.',\n",
       "  'Positions': '- **Go Short** on the 2-1-2 crack spread.- **Go Long** on HollyFrontier Corporation (DINO), betting on internal efficiencies.\"'}}"
      ]
     },
     "execution_count": 79,
     "metadata": {},
     "output_type": "execute_result"
    }
   ],
   "source": [
    "d = parse_strategies(result)\n",
    "d"
   ]
  },
  {
   "cell_type": "code",
   "execution_count": 80,
   "id": "606386de",
   "metadata": {},
   "outputs": [],
   "source": [
    "# Convert and write JSON object to file\n",
    "with open(\"trading_strategies.json\", \"w\") as outfile: \n",
    "    json.dump(d, outfile)"
   ]
  },
  {
   "cell_type": "code",
   "execution_count": null,
   "id": "17531d15",
   "metadata": {},
   "outputs": [],
   "source": []
  }
 ],
 "metadata": {
  "kernelspec": {
   "display_name": "Python 3 (ipykernel)",
   "language": "python",
   "name": "python3"
  },
  "language_info": {
   "codemirror_mode": {
    "name": "ipython",
    "version": 3
   },
   "file_extension": ".py",
   "mimetype": "text/x-python",
   "name": "python",
   "nbconvert_exporter": "python",
   "pygments_lexer": "ipython3",
   "version": "3.9.20"
  }
 },
 "nbformat": 4,
 "nbformat_minor": 5
}
